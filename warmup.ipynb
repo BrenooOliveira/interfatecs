{
  "nbformat": 4,
  "nbformat_minor": 0,
  "metadata": {
    "colab": {
      "provenance": [],
      "authorship_tag": "ABX9TyO8GxhZtrD/9e9wjK3O/BQB",
      "include_colab_link": true
    },
    "kernelspec": {
      "name": "python3",
      "display_name": "Python 3"
    },
    "language_info": {
      "name": "python"
    }
  },
  "cells": [
    {
      "cell_type": "markdown",
      "metadata": {
        "id": "view-in-github",
        "colab_type": "text"
      },
      "source": [
        "<a href=\"https://colab.research.google.com/github/BrenooOliveira/interfatecs/blob/main/warmup.ipynb\" target=\"_parent\"><img src=\"https://colab.research.google.com/assets/colab-badge.svg\" alt=\"Open In Colab\"/></a>"
      ]
    },
    {
      "cell_type": "markdown",
      "source": [
        "# Quadrados perfeitos (WARM-UP)"
      ],
      "metadata": {
        "id": "1QJD3O-P41vj"
      }
    },
    {
      "cell_type": "code",
      "execution_count": 6,
      "metadata": {
        "colab": {
          "base_uri": "https://localhost:8080/"
        },
        "id": "m4NtztJBug_e",
        "outputId": "4d19a0d8-b373-443c-9ccf-2929a520b704"
      },
      "outputs": [
        {
          "name": "stdout",
          "output_type": "stream",
          "text": [
            "digite um numero 144\n"
          ]
        },
        {
          "output_type": "execute_result",
          "data": {
            "text/plain": [
              "12"
            ]
          },
          "metadata": {},
          "execution_count": 6
        }
      ],
      "source": [
        "from math import sqrt\n",
        "user_input = 0\n",
        "user_input = int(input(\"digite um numero \"))\n",
        "qtd_nums = sqrt(user_input)\n",
        "int(qtd_nums)"
      ]
    },
    {
      "cell_type": "markdown",
      "source": [
        "# Problema B - Salvem os machos!\n"
      ],
      "metadata": {
        "id": "AAs55wsY7qd7"
      }
    },
    {
      "cell_type": "code",
      "source": [
        "num_palind = int(input('digite numero os genes '))\n",
        "genes = str(input('digite os genes '))\n",
        "palindro = 'N'\n",
        "\n",
        "\n",
        "for i in range(0,len(genes)-num_palind):\n",
        "  seq = genes[i:num_palind+i]\n",
        "  seq_inv = seq[::-1]\n",
        "\n",
        "\n",
        "  if seq == seq_inv:\n",
        "    palindro = 'S'\n",
        "\n",
        "palindro"
      ],
      "metadata": {
        "colab": {
          "base_uri": "https://localhost:8080/",
          "height": 70
        },
        "id": "o0CqB8yT506b",
        "outputId": "a0dde62e-18fc-4af7-f8f1-7fc6cc16a8da"
      },
      "execution_count": 32,
      "outputs": [
        {
          "name": "stdout",
          "output_type": "stream",
          "text": [
            "digite numero os genes 8\n",
            "digite os genes GGTCATCCGTGGTGCTG\n"
          ]
        },
        {
          "output_type": "execute_result",
          "data": {
            "text/plain": [
              "'S'"
            ],
            "application/vnd.google.colaboratory.intrinsic+json": {
              "type": "string"
            }
          },
          "metadata": {},
          "execution_count": 32
        }
      ]
    },
    {
      "cell_type": "code",
      "source": [],
      "metadata": {
        "id": "zWT2uVs394ki"
      },
      "execution_count": null,
      "outputs": []
    }
  ]
}